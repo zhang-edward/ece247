{
 "cells": [
  {
   "cell_type": "markdown",
   "metadata": {},
   "source": [
    "# Dropout\n",
    "\n",
    "In this notebook, you will implement dropout.  Then we will ask you to train a network with batchnorm and dropout, and acheive over 55% accuracy on CIFAR-10.\n",
    "\n",
    "CS231n has built a solid API for building these modular frameworks and training them, and we will use their very well implemented framework as opposed to \"reinventing the wheel.\"  This includes using their Solver, various utility functions, and their layer structure.  This also includes nndl.fc_net, nndl.layers, and nndl.layer_utils.  As in prior assignments, we thank Serena Yeung & Justin Johnson for permission to use code written for the CS 231n class (cs231n.stanford.edu).  "
   ]
  },
  {
   "cell_type": "code",
   "execution_count": 1,
   "metadata": {},
   "outputs": [],
   "source": [
    "## Import and setups\n",
    "\n",
    "import time\n",
    "import numpy as np\n",
    "import matplotlib.pyplot as plt\n",
    "from nndl.fc_net import *\n",
    "from nndl.layers import *\n",
    "from cs231n.data_utils import get_CIFAR10_data\n",
    "from cs231n.gradient_check import eval_numerical_gradient, eval_numerical_gradient_array\n",
    "from cs231n.solver import Solver\n",
    "\n",
    "%matplotlib inline\n",
    "plt.rcParams['figure.figsize'] = (10.0, 8.0) # set default size of plots\n",
    "plt.rcParams['image.interpolation'] = 'nearest'\n",
    "plt.rcParams['image.cmap'] = 'gray'\n",
    "\n",
    "# for auto-reloading external modules\n",
    "# see http://stackoverflow.com/questions/1907993/autoreload-of-modules-in-ipython\n",
    "%load_ext autoreload\n",
    "%autoreload 2\n",
    "\n",
    "def rel_error(x, y):\n",
    "    \"\"\" returns relative error \"\"\"\n",
    "    return np.max(np.abs(x - y) / (np.maximum(1e-8, np.abs(x) + np.abs(y))))"
   ]
  },
  {
   "cell_type": "code",
   "execution_count": 2,
   "metadata": {},
   "outputs": [
    {
     "name": "stdout",
     "output_type": "stream",
     "text": [
      "X_train: (49000, 3, 32, 32) \n",
      "y_train: (49000,) \n",
      "X_val: (1000, 3, 32, 32) \n",
      "y_val: (1000,) \n",
      "X_test: (1000, 3, 32, 32) \n",
      "y_test: (1000,) \n"
     ]
    }
   ],
   "source": [
    "# Load the (preprocessed) CIFAR10 data.\n",
    "\n",
    "data = get_CIFAR10_data()\n",
    "for k in data.keys():\n",
    "    print('{}: {} '.format(k, data[k].shape))"
   ]
  },
  {
   "cell_type": "markdown",
   "metadata": {},
   "source": [
    "## Dropout forward pass\n",
    "\n",
    "Implement the training and test time dropout forward pass, `dropout_forward`, in `nndl/layers.py`. After that, test your implementation by running the following cell."
   ]
  },
  {
   "cell_type": "code",
   "execution_count": 3,
   "metadata": {},
   "outputs": [
    {
     "name": "stdout",
     "output_type": "stream",
     "text": [
      "Running tests with p =  0.3\n",
      "Mean of input:  9.997243690342161\n",
      "Mean of train-time output:  10.051213555038881\n",
      "Mean of test-time output:  9.997243690342161\n",
      "Fraction of train-time output set to zero:  0.698476\n",
      "Fraction of test-time output set to zero:  0.0\n",
      "Running tests with p =  0.6\n",
      "Mean of input:  9.997243690342161\n",
      "Mean of train-time output:  9.997800418539825\n",
      "Mean of test-time output:  9.997243690342161\n",
      "Fraction of train-time output set to zero:  0.400136\n",
      "Fraction of test-time output set to zero:  0.0\n",
      "Running tests with p =  0.75\n",
      "Mean of input:  9.997243690342161\n",
      "Mean of train-time output:  9.990889323112652\n",
      "Mean of test-time output:  9.997243690342161\n",
      "Fraction of train-time output set to zero:  0.250436\n",
      "Fraction of test-time output set to zero:  0.0\n"
     ]
    }
   ],
   "source": [
    "x = np.random.randn(500, 500) + 10\n",
    "\n",
    "for p in [0.3, 0.6, 0.75]:\n",
    "    out, _ = dropout_forward(x, {'mode': 'train', 'p': p})\n",
    "    out_test, _ = dropout_forward(x, {'mode': 'test', 'p': p})\n",
    "\n",
    "    print('Running tests with p = ', p)\n",
    "    print('Mean of input: ', x.mean())\n",
    "    print('Mean of train-time output: ', out.mean())\n",
    "    print('Mean of test-time output: ', out_test.mean())\n",
    "    print('Fraction of train-time output set to zero: ', (out == 0).mean())\n",
    "    print('Fraction of test-time output set to zero: ', (out_test == 0).mean())"
   ]
  },
  {
   "cell_type": "markdown",
   "metadata": {},
   "source": [
    "## Dropout backward pass\n",
    "\n",
    "Implement the backward pass, `dropout_backward`, in `nndl/layers.py`.  After that, test your gradients by running the following cell:"
   ]
  },
  {
   "cell_type": "code",
   "execution_count": 4,
   "metadata": {},
   "outputs": [
    {
     "name": "stdout",
     "output_type": "stream",
     "text": [
      "dx relative error:  5.4456117023484937e-11\n"
     ]
    }
   ],
   "source": [
    "x = np.random.randn(10, 10) + 10\n",
    "dout = np.random.randn(*x.shape)\n",
    "\n",
    "dropout_param = {'mode': 'train', 'p': 0.8, 'seed': 123}\n",
    "out, cache = dropout_forward(x, dropout_param)\n",
    "dx = dropout_backward(dout, cache)\n",
    "dx_num = eval_numerical_gradient_array(lambda xx: dropout_forward(xx, dropout_param)[0], x, dout)\n",
    "\n",
    "print('dx relative error: ', rel_error(dx, dx_num))"
   ]
  },
  {
   "cell_type": "markdown",
   "metadata": {},
   "source": [
    "## Implement a fully connected neural network with dropout layers\n",
    "\n",
    "Modify the `FullyConnectedNet()` class in `nndl/fc_net.py` to incorporate dropout.  A dropout layer should be incorporated after every ReLU layer.  Concretely, there shouldn't be a dropout at the output layer since there is no ReLU at the output layer. You will need to modify the class in the following areas:\n",
    "\n",
    "(1) In the forward pass, you will need to incorporate a dropout layer after every relu layer.\n",
    "\n",
    "(2) In the backward pass, you will need to incorporate a dropout backward pass layer.\n",
    "\n",
    "Check your implementation by running the following code.  Our W1 gradient relative error is on the order of 1e-6 (the largest of all the relative errors)."
   ]
  },
  {
   "cell_type": "code",
   "execution_count": 5,
   "metadata": {},
   "outputs": [
    {
     "name": "stdout",
     "output_type": "stream",
     "text": [
      "Running check with dropout =  0.5\n",
      "Initial loss:  2.309771209610118\n",
      "W1 relative error: 2.694274363733021e-07\n",
      "W2 relative error: 7.439246147919978e-08\n",
      "W3 relative error: 1.910371122296728e-08\n",
      "b1 relative error: 4.112891126518e-09\n",
      "b2 relative error: 5.756217724722137e-10\n",
      "b3 relative error: 1.3204470857080166e-10\n",
      "\n",
      "\n",
      "Running check with dropout =  0.75\n",
      "Initial loss:  2.306133548427975\n",
      "W1 relative error: 8.72986097970181e-08\n",
      "W2 relative error: 2.9777307885797295e-07\n",
      "W3 relative error: 1.8832780806174298e-08\n",
      "b1 relative error: 5.379486003985169e-08\n",
      "b2 relative error: 3.6529949080385546e-09\n",
      "b3 relative error: 9.987242764516995e-11\n",
      "\n",
      "\n",
      "Running check with dropout =  1.0\n",
      "Initial loss:  2.3053332250963194\n",
      "W1 relative error: 1.2744095365229032e-06\n",
      "W2 relative error: 4.678743300473988e-07\n",
      "W3 relative error: 4.331673892536035e-08\n",
      "b1 relative error: 4.0853539035931665e-08\n",
      "b2 relative error: 1.951342257912746e-09\n",
      "b3 relative error: 9.387142701440351e-11\n",
      "\n",
      "\n"
     ]
    }
   ],
   "source": [
    "N, D, H1, H2, C = 2, 15, 20, 30, 10\n",
    "X = np.random.randn(N, D)\n",
    "y = np.random.randint(C, size=(N,))\n",
    "\n",
    "for dropout in [0.5, 0.75, 1.0]:\n",
    "    print('Running check with dropout = ', dropout)\n",
    "    model = FullyConnectedNet([H1, H2], input_dim=D, num_classes=C,\n",
    "                              weight_scale=5e-2, dtype=np.float64,\n",
    "                              dropout=dropout, seed=123)\n",
    "\n",
    "    loss, grads = model.loss(X, y)\n",
    "    print('Initial loss: ', loss)\n",
    "\n",
    "    for name in sorted(grads):\n",
    "        f = lambda _: model.loss(X, y)[0]\n",
    "        grad_num = eval_numerical_gradient(f, model.params[name], verbose=False, h=1e-5)\n",
    "        print('{} relative error: {}'.format(name, rel_error(grad_num, grads[name])))\n",
    "    print('\\n')"
   ]
  },
  {
   "cell_type": "markdown",
   "metadata": {},
   "source": [
    "## Dropout as a regularizer\n",
    "\n",
    "In class, we claimed that dropout acts as a regularizer by effectively bagging.  To check this, we will train two small networks, one with dropout and one without dropout.  "
   ]
  },
  {
   "cell_type": "code",
   "execution_count": 6,
   "metadata": {},
   "outputs": [
    {
     "name": "stdout",
     "output_type": "stream",
     "text": [
      "(Iteration 1 / 125) loss: 2.300199\n",
      "(Epoch 0 / 25) train acc: 0.158000; val_acc: 0.127000\n",
      "(Epoch 1 / 25) train acc: 0.132000; val_acc: 0.121000\n",
      "(Epoch 2 / 25) train acc: 0.204000; val_acc: 0.170000\n",
      "(Epoch 3 / 25) train acc: 0.240000; val_acc: 0.192000\n",
      "(Epoch 4 / 25) train acc: 0.312000; val_acc: 0.274000\n",
      "(Epoch 5 / 25) train acc: 0.314000; val_acc: 0.269000\n",
      "(Epoch 6 / 25) train acc: 0.364000; val_acc: 0.252000\n",
      "(Epoch 7 / 25) train acc: 0.390000; val_acc: 0.281000\n",
      "(Epoch 8 / 25) train acc: 0.386000; val_acc: 0.290000\n",
      "(Epoch 9 / 25) train acc: 0.372000; val_acc: 0.267000\n",
      "(Epoch 10 / 25) train acc: 0.424000; val_acc: 0.286000\n",
      "(Epoch 11 / 25) train acc: 0.396000; val_acc: 0.275000\n",
      "(Epoch 12 / 25) train acc: 0.458000; val_acc: 0.299000\n",
      "(Epoch 13 / 25) train acc: 0.496000; val_acc: 0.305000\n",
      "(Epoch 14 / 25) train acc: 0.492000; val_acc: 0.299000\n",
      "(Epoch 15 / 25) train acc: 0.550000; val_acc: 0.296000\n",
      "(Epoch 16 / 25) train acc: 0.584000; val_acc: 0.297000\n",
      "(Epoch 17 / 25) train acc: 0.582000; val_acc: 0.309000\n",
      "(Epoch 18 / 25) train acc: 0.612000; val_acc: 0.306000\n",
      "(Epoch 19 / 25) train acc: 0.628000; val_acc: 0.323000\n",
      "(Epoch 20 / 25) train acc: 0.608000; val_acc: 0.324000\n",
      "(Iteration 101 / 125) loss: 1.369535\n",
      "(Epoch 21 / 25) train acc: 0.644000; val_acc: 0.330000\n",
      "(Epoch 22 / 25) train acc: 0.708000; val_acc: 0.341000\n",
      "(Epoch 23 / 25) train acc: 0.690000; val_acc: 0.297000\n",
      "(Epoch 24 / 25) train acc: 0.740000; val_acc: 0.300000\n",
      "(Epoch 25 / 25) train acc: 0.750000; val_acc: 0.329000\n",
      "(Iteration 1 / 125) loss: 2.300607\n",
      "(Epoch 0 / 25) train acc: 0.172000; val_acc: 0.167000\n",
      "(Epoch 1 / 25) train acc: 0.210000; val_acc: 0.197000\n",
      "(Epoch 2 / 25) train acc: 0.284000; val_acc: 0.240000\n",
      "(Epoch 3 / 25) train acc: 0.302000; val_acc: 0.246000\n",
      "(Epoch 4 / 25) train acc: 0.392000; val_acc: 0.289000\n",
      "(Epoch 5 / 25) train acc: 0.420000; val_acc: 0.274000\n",
      "(Epoch 6 / 25) train acc: 0.420000; val_acc: 0.304000\n",
      "(Epoch 7 / 25) train acc: 0.474000; val_acc: 0.293000\n",
      "(Epoch 8 / 25) train acc: 0.516000; val_acc: 0.330000\n",
      "(Epoch 9 / 25) train acc: 0.566000; val_acc: 0.322000\n",
      "(Epoch 10 / 25) train acc: 0.620000; val_acc: 0.321000\n",
      "(Epoch 11 / 25) train acc: 0.656000; val_acc: 0.317000\n",
      "(Epoch 12 / 25) train acc: 0.676000; val_acc: 0.319000\n",
      "(Epoch 13 / 25) train acc: 0.680000; val_acc: 0.304000\n",
      "(Epoch 14 / 25) train acc: 0.752000; val_acc: 0.323000\n",
      "(Epoch 15 / 25) train acc: 0.802000; val_acc: 0.321000\n",
      "(Epoch 16 / 25) train acc: 0.804000; val_acc: 0.300000\n",
      "(Epoch 17 / 25) train acc: 0.868000; val_acc: 0.303000\n",
      "(Epoch 18 / 25) train acc: 0.894000; val_acc: 0.298000\n",
      "(Epoch 19 / 25) train acc: 0.910000; val_acc: 0.282000\n",
      "(Epoch 20 / 25) train acc: 0.926000; val_acc: 0.316000\n",
      "(Iteration 101 / 125) loss: 0.245816\n",
      "(Epoch 21 / 25) train acc: 0.950000; val_acc: 0.282000\n",
      "(Epoch 22 / 25) train acc: 0.958000; val_acc: 0.292000\n",
      "(Epoch 23 / 25) train acc: 0.966000; val_acc: 0.307000\n",
      "(Epoch 24 / 25) train acc: 0.966000; val_acc: 0.285000\n",
      "(Epoch 25 / 25) train acc: 0.970000; val_acc: 0.284000\n"
     ]
    }
   ],
   "source": [
    "# Train two identical nets, one with dropout and one without\n",
    "\n",
    "num_train = 500\n",
    "small_data = {\n",
    "    'X_train': data['X_train'][:num_train],\n",
    "    'y_train': data['y_train'][:num_train],\n",
    "    'X_val': data['X_val'],\n",
    "    'y_val': data['y_val'],\n",
    "}\n",
    "\n",
    "solvers = {}\n",
    "dropout_choices = [0.6, 1.0]\n",
    "for dropout in dropout_choices:\n",
    "    model = FullyConnectedNet([100, 100, 100], dropout=dropout)\n",
    "\n",
    "    solver = Solver(model, small_data,\n",
    "                    num_epochs=25, batch_size=100,\n",
    "                    update_rule='adam',\n",
    "                    optim_config={\n",
    "                      'learning_rate': 5e-4,\n",
    "                    },\n",
    "                    verbose=True, print_every=100)\n",
    "    solver.train()\n",
    "    solvers[dropout] = solver"
   ]
  },
  {
   "cell_type": "code",
   "execution_count": 7,
   "metadata": {},
   "outputs": [
    {
     "data": {
      "image/png": "[encoded data removed]",
      "text/plain": [
       "<Figure size 1080x1080 with 2 Axes>"
      ]
     },
     "metadata": {},
     "output_type": "display_data"
    }
   ],
   "source": [
    "# Plot train and validation accuracies of the two models\n",
    "\n",
    "train_accs = []\n",
    "val_accs = []\n",
    "for dropout in dropout_choices:\n",
    "    solver = solvers[dropout]\n",
    "    train_accs.append(solver.train_acc_history[-1])\n",
    "    val_accs.append(solver.val_acc_history[-1])\n",
    "\n",
    "plt.subplot(3, 1, 1)\n",
    "for dropout in dropout_choices:\n",
    "    plt.plot(solvers[dropout].train_acc_history, 'o', label='%.2f dropout' % dropout)\n",
    "plt.title('Train accuracy')\n",
    "plt.xlabel('Epoch')\n",
    "plt.ylabel('Accuracy')\n",
    "plt.legend(ncol=2, loc='lower right')\n",
    "  \n",
    "plt.subplot(3, 1, 2)\n",
    "for dropout in dropout_choices:\n",
    "    plt.plot(solvers[dropout].val_acc_history, 'o', label='%.2f dropout' % dropout)\n",
    "plt.title('Val accuracy')\n",
    "plt.xlabel('Epoch')\n",
    "plt.ylabel('Accuracy')\n",
    "plt.legend(ncol=2, loc='lower right')\n",
    "\n",
    "plt.gcf().set_size_inches(15, 15)\n",
    "plt.show()"
   ]
  },
  {
   "cell_type": "markdown",
   "metadata": {},
   "source": [
    "## Question\n",
    "\n",
    "Based off the results of this experiment, is dropout performing regularization?  Explain your answer."
   ]
  },
  {
   "cell_type": "markdown",
   "metadata": {},
   "source": [
    "## Answer:\n",
    "\n",
    "Yes, dropout is performing regularization because with dropout, our model has a training accuracy much closer to validation accuracy whereas our model without dropout has a much higher training accuracy than validation accuracy."
   ]
  },
  {
   "cell_type": "markdown",
   "metadata": {},
   "source": [
    "##### Final part of the assignment\n",
    "\n",
    "Get over 55% validation accuracy on CIFAR-10 by using the layers you have implemented.  You will be graded according to the following equation:\n",
    "\n",
    "min(floor((X - 32%)) / 23%, 1) \n",
    "where if you get 55% or higher validation accuracy, you get full points."
   ]
  },
  {
   "cell_type": "code",
   "execution_count": 10,
   "metadata": {
    "scrolled": false
   },
   "outputs": [
    {
     "name": "stdout",
     "output_type": "stream",
     "text": [
      "(Iteration 1 / 1910) loss: 2.313253\n",
      "(Epoch 0 / 10) train acc: 0.156000; val_acc: 0.140000\n",
      "(Iteration 51 / 1910) loss: 1.900724\n",
      "(Iteration 101 / 1910) loss: 1.752910\n",
      "(Iteration 151 / 1910) loss: 1.790791\n",
      "(Epoch 1 / 10) train acc: 0.434000; val_acc: 0.448000\n",
      "(Iteration 201 / 1910) loss: 1.627303\n",
      "(Iteration 251 / 1910) loss: 1.690706\n",
      "(Iteration 301 / 1910) loss: 1.710692\n",
      "(Iteration 351 / 1910) loss: 1.608809\n",
      "(Epoch 2 / 10) train acc: 0.492000; val_acc: 0.486000\n",
      "(Iteration 401 / 1910) loss: 1.618772\n",
      "(Iteration 451 / 1910) loss: 1.501616\n",
      "(Iteration 501 / 1910) loss: 1.434100\n",
      "(Iteration 551 / 1910) loss: 1.591375\n",
      "(Epoch 3 / 10) train acc: 0.533000; val_acc: 0.509000\n",
      "(Iteration 601 / 1910) loss: 1.412635\n",
      "(Iteration 651 / 1910) loss: 1.277013\n",
      "(Iteration 701 / 1910) loss: 1.451348\n",
      "(Iteration 751 / 1910) loss: 1.477529\n",
      "(Epoch 4 / 10) train acc: 0.544000; val_acc: 0.516000\n",
      "(Iteration 801 / 1910) loss: 1.440390\n",
      "(Iteration 851 / 1910) loss: 1.421336\n",
      "(Iteration 901 / 1910) loss: 1.403937\n",
      "(Iteration 951 / 1910) loss: 1.349680\n",
      "(Epoch 5 / 10) train acc: 0.536000; val_acc: 0.549000\n",
      "(Iteration 1001 / 1910) loss: 1.371560\n",
      "(Iteration 1051 / 1910) loss: 1.296324\n",
      "(Iteration 1101 / 1910) loss: 1.444857\n",
      "(Epoch 6 / 10) train acc: 0.566000; val_acc: 0.525000\n",
      "(Iteration 1151 / 1910) loss: 1.390857\n",
      "(Iteration 1201 / 1910) loss: 1.342500\n",
      "(Iteration 1251 / 1910) loss: 1.409043\n",
      "(Iteration 1301 / 1910) loss: 1.310190\n",
      "(Epoch 7 / 10) train acc: 0.590000; val_acc: 0.529000\n",
      "(Iteration 1351 / 1910) loss: 1.275100\n",
      "(Iteration 1401 / 1910) loss: 1.400575\n",
      "(Iteration 1451 / 1910) loss: 1.372440\n",
      "(Iteration 1501 / 1910) loss: 1.381053\n",
      "(Epoch 8 / 10) train acc: 0.603000; val_acc: 0.546000\n",
      "(Iteration 1551 / 1910) loss: 1.342825\n",
      "(Iteration 1601 / 1910) loss: 1.404309\n",
      "(Iteration 1651 / 1910) loss: 1.274069\n",
      "(Iteration 1701 / 1910) loss: 1.350118\n",
      "(Epoch 9 / 10) train acc: 0.619000; val_acc: 0.540000\n",
      "(Iteration 1751 / 1910) loss: 1.212386\n",
      "(Iteration 1801 / 1910) loss: 1.276342\n",
      "(Iteration 1851 / 1910) loss: 1.240554\n",
      "(Iteration 1901 / 1910) loss: 1.283522\n",
      "(Epoch 10 / 10) train acc: 0.618000; val_acc: 0.560000\n"
     ]
    }
   ],
   "source": [
    "# ================================================================ #\n",
    "# YOUR CODE HERE:\n",
    "#   Implement a FC-net that achieves at least 55% validation accuracy\n",
    "#   on CIFAR-10.\n",
    "# ================================================================ #\n",
    "\n",
    "optimizer = 'adam'\n",
    "best_model = None\n",
    "\n",
    "layer_dims = [500, 500, 500]\n",
    "weight_scale = 0.01\n",
    "learning_rate = 5e-3\n",
    "lr_decay = 0.9\n",
    "use_batchnorm = True\n",
    "dropout = 0.5\n",
    "\n",
    "model = FullyConnectedNet(layer_dims, weight_scale=weight_scale, use_batchnorm=use_batchnorm, dropout=dropout)\n",
    "\n",
    "solver = Solver(model, data,\n",
    "                num_epochs=10, batch_size=256,\n",
    "                update_rule=optimizer,\n",
    "                optim_config={\n",
    "                  'learning_rate': learning_rate,\n",
    "                },\n",
    "                lr_decay=lr_decay,\n",
    "                verbose=True, print_every=50)\n",
    "solver.train()\n",
    "\n",
    "# ================================================================ #\n",
    "# END YOUR CODE HERE\n",
    "# ================================================================ #\n"
   ]
  }
 ],
 "metadata": {
  "kernelspec": {
   "display_name": "Python 3",
   "language": "python",
   "name": "python3"
  },
  "language_info": {
   "codemirror_mode": {
    "name": "ipython",
    "version": 3
   },
   "file_extension": ".py",
   "mimetype": "text/x-python",
   "name": "python",
   "nbconvert_exporter": "python",
   "pygments_lexer": "ipython3",
   "version": "3.7.6"
  }
 },
 "nbformat": 4,
 "nbformat_minor": 2
}
