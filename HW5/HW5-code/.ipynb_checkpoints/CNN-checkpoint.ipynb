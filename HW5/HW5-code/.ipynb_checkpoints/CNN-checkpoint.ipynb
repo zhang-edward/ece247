{
 "cells": [
  {
   "cell_type": "markdown",
   "metadata": {},
   "source": [
    "# Convolutional neural networks\n",
    "\n",
    "In this notebook, we'll put together our convolutional layers to implement a 3-layer CNN.  Then, we'll ask you to implement a CNN that can achieve > 65% validation error on CIFAR-10.\n",
    "\n",
    "CS231n has built a solid API for building these modular frameworks and training them, and we will use their very well implemented framework as opposed to \"reinventing the wheel.\"  This includes using their Solver, various utility functions, their layer structure, and their implementation of fast CNN layers.  This also includes nndl.fc_net, nndl.layers, and nndl.layer_utils.  As in prior assignments, we thank Serena Yeung & Justin Johnson for permission to use code written for the CS 231n class (cs231n.stanford.edu).  \n",
    "\n",
    "\n",
    "If you have not completed the Spatial BatchNorm Notebook, please see the following description from that notebook:\n",
    "\n",
    "Please copy and paste your prior implemented code from HW #4 to start this assignment.  If you did not correctly implement the layers in HW #4, you may collaborate with a classmate to use their layer implementations from HW #4.  You may also visit TA or Prof OH to correct your implementation.  \n",
    "\n",
    "You'll want to copy and paste from HW #4:\n",
    "    - layers.py for your FC network layers, as well as batchnorm and dropout.\n",
    "    - layer_utils.py for your combined FC network layers.\n",
    "    - optim.py for your optimizers.\n",
    "\n",
    "Be sure to place these in the `nndl/` directory so they're imported correctly.  Note, as announced in class, we will not be releasing our solutions."
   ]
  },
  {
   "cell_type": "code",
   "execution_count": 1,
   "metadata": {},
   "outputs": [],
   "source": [
    "# As usual, a bit of setup\n",
    "\n",
    "import numpy as np\n",
    "import matplotlib.pyplot as plt\n",
    "from nndl.cnn import *\n",
    "from cs231n.data_utils import get_CIFAR10_data\n",
    "from cs231n.gradient_check import eval_numerical_gradient_array, eval_numerical_gradient\n",
    "from nndl.layers import *\n",
    "from nndl.conv_layers import *\n",
    "from cs231n.fast_layers import *\n",
    "from cs231n.solver import Solver\n",
    "\n",
    "%matplotlib inline\n",
    "plt.rcParams['figure.figsize'] = (10.0, 8.0) # set default size of plots\n",
    "plt.rcParams['image.interpolation'] = 'nearest'\n",
    "plt.rcParams['image.cmap'] = 'gray'\n",
    "\n",
    "# for auto-reloading external modules\n",
    "# see http://stackoverflow.com/questions/1907993/autoreload-of-modules-in-ipython\n",
    "%load_ext autoreload\n",
    "%autoreload 2\n",
    "\n",
    "def rel_error(x, y):\n",
    "  \"\"\" returns relative error \"\"\"\n",
    "  return np.max(np.abs(x - y) / (np.maximum(1e-8, np.abs(x) + np.abs(y))))"
   ]
  },
  {
   "cell_type": "code",
   "execution_count": 2,
   "metadata": {},
   "outputs": [
    {
     "name": "stdout",
     "output_type": "stream",
     "text": [
      "X_train: (49000, 3, 32, 32) \n",
      "y_train: (49000,) \n",
      "X_val: (1000, 3, 32, 32) \n",
      "y_val: (1000,) \n",
      "X_test: (1000, 3, 32, 32) \n",
      "y_test: (1000,) \n"
     ]
    }
   ],
   "source": [
    "# Load the (preprocessed) CIFAR10 data.\n",
    "\n",
    "data = get_CIFAR10_data()\n",
    "for k in data.keys():\n",
    "  print('{}: {} '.format(k, data[k].shape))"
   ]
  },
  {
   "cell_type": "markdown",
   "metadata": {},
   "source": [
    "## Three layer CNN\n",
    "\n",
    "In this notebook, you will implement a three layer CNN.  The `ThreeLayerConvNet` class is in `nndl/cnn.py`.  You'll need to modify that code for this section, including the initialization, as well as the calculation of the loss and gradients.  You should be able to use the building blocks you have either earlier coded or that we have provided.  Be sure to use the fast layers.\n",
    "\n",
    "The architecture of this CNN will be:\n",
    "\n",
    "conv - relu - 2x2 max pool - affine - relu - affine - softmax\n",
    "\n",
    "We won't use batchnorm yet.  You've also done enough of these to know how to debug; use the cells below.\n",
    "\n",
    "Note: As we are implementing several layers CNN networks. The gradient error can be expected for the `eval_numerical_gradient()` function. If your `W1 max relative error` and `W2 max relative error` are around or below 0.01, they should be acceptable. Other errors should be less than 1e-5. "
   ]
  },
  {
   "cell_type": "code",
   "execution_count": 3,
   "metadata": {},
   "outputs": [
    {
     "name": "stdout",
     "output_type": "stream",
     "text": [
      "W1 max relative error: 0.0006507149025299291\n",
      "W2 max relative error: 0.00568316345265749\n",
      "W3 max relative error: 4.2889602827172216e-05\n",
      "b1 max relative error: 1.7735505300977068e-05\n",
      "b2 max relative error: 8.581484252488379e-07\n",
      "b3 max relative error: 1.1508232107915781e-09\n"
     ]
    }
   ],
   "source": [
    "num_inputs = 2\n",
    "input_dim = (3, 16, 16)\n",
    "reg = 0.0\n",
    "num_classes = 10\n",
    "X = np.random.randn(num_inputs, *input_dim)\n",
    "y = np.random.randint(num_classes, size=num_inputs)\n",
    "\n",
    "model = ThreeLayerConvNet(num_filters=3, filter_size=3,\n",
    "                          input_dim=input_dim, hidden_dim=7,\n",
    "                          dtype=np.float64)\n",
    "loss, grads = model.loss(X, y)\n",
    "for param_name in sorted(grads):\n",
    "    f = lambda _: model.loss(X, y)[0]\n",
    "    param_grad_num = eval_numerical_gradient(f, model.params[param_name], verbose=False, h=1e-6)\n",
    "    e = rel_error(param_grad_num, grads[param_name])\n",
    "    print('{} max relative error: {}'.format(param_name, rel_error(param_grad_num, grads[param_name])))"
   ]
  },
  {
   "cell_type": "markdown",
   "metadata": {},
   "source": [
    "### Overfit small dataset\n",
    "\n",
    "To check your CNN implementation, let's overfit a small dataset."
   ]
  },
  {
   "cell_type": "code",
   "execution_count": 4,
   "metadata": {},
   "outputs": [
    {
     "name": "stdout",
     "output_type": "stream",
     "text": [
      "(Iteration 1 / 20) loss: 2.381830\n",
      "(Epoch 0 / 10) train acc: 0.160000; val_acc: 0.119000\n",
      "(Iteration 2 / 20) loss: 5.928924\n",
      "(Epoch 1 / 10) train acc: 0.190000; val_acc: 0.130000\n",
      "(Iteration 3 / 20) loss: 2.551710\n",
      "(Iteration 4 / 20) loss: 2.735981\n",
      "(Epoch 2 / 10) train acc: 0.180000; val_acc: 0.079000\n",
      "(Iteration 5 / 20) loss: 3.169556\n",
      "(Iteration 6 / 20) loss: 2.329534\n",
      "(Epoch 3 / 10) train acc: 0.260000; val_acc: 0.169000\n",
      "(Iteration 7 / 20) loss: 2.298394\n",
      "(Iteration 8 / 20) loss: 1.884549\n",
      "(Epoch 4 / 10) train acc: 0.380000; val_acc: 0.152000\n",
      "(Iteration 9 / 20) loss: 1.923281\n",
      "(Iteration 10 / 20) loss: 1.841728\n",
      "(Epoch 5 / 10) train acc: 0.470000; val_acc: 0.155000\n",
      "(Iteration 11 / 20) loss: 1.494036\n",
      "(Iteration 12 / 20) loss: 1.623882\n",
      "(Epoch 6 / 10) train acc: 0.590000; val_acc: 0.190000\n",
      "(Iteration 13 / 20) loss: 1.293669\n",
      "(Iteration 14 / 20) loss: 1.343754\n",
      "(Epoch 7 / 10) train acc: 0.620000; val_acc: 0.191000\n",
      "(Iteration 15 / 20) loss: 1.286494\n",
      "(Iteration 16 / 20) loss: 0.993775\n",
      "(Epoch 8 / 10) train acc: 0.630000; val_acc: 0.204000\n",
      "(Iteration 17 / 20) loss: 0.985476\n",
      "(Iteration 18 / 20) loss: 0.925707\n",
      "(Epoch 9 / 10) train acc: 0.680000; val_acc: 0.243000\n",
      "(Iteration 19 / 20) loss: 1.135033\n",
      "(Iteration 20 / 20) loss: 0.856049\n",
      "(Epoch 10 / 10) train acc: 0.800000; val_acc: 0.205000\n"
     ]
    }
   ],
   "source": [
    "num_train = 100\n",
    "small_data = {\n",
    "  'X_train': data['X_train'][:num_train],\n",
    "  'y_train': data['y_train'][:num_train],\n",
    "  'X_val': data['X_val'],\n",
    "  'y_val': data['y_val'],\n",
    "}\n",
    "\n",
    "model = ThreeLayerConvNet(weight_scale=1e-2)\n",
    "\n",
    "solver = Solver(model, small_data,\n",
    "                num_epochs=10, batch_size=50,\n",
    "                update_rule='adam',\n",
    "                optim_config={\n",
    "                  'learning_rate': 1e-3,\n",
    "                },\n",
    "                verbose=True, print_every=1)\n",
    "solver.train()"
   ]
  },
  {
   "cell_type": "code",
   "execution_count": 5,
   "metadata": {},
   "outputs": [
    {
     "data": {
      "image/png": "[encoded data removed]",
      "text/plain": [
       "<Figure size 432x288 with 2 Axes>"
      ]
     },
     "metadata": {},
     "output_type": "display_data"
    }
   ],
   "source": [
    "plt.subplot(2, 1, 1)\n",
    "plt.plot(solver.loss_history, 'o')\n",
    "plt.xlabel('iteration')\n",
    "plt.ylabel('loss')\n",
    "\n",
    "plt.subplot(2, 1, 2)\n",
    "plt.plot(solver.train_acc_history, '-o')\n",
    "plt.plot(solver.val_acc_history, '-o')\n",
    "plt.legend(['train', 'val'], loc='upper left')\n",
    "plt.xlabel('epoch')\n",
    "plt.ylabel('accuracy')\n",
    "plt.show()"
   ]
  },
  {
   "cell_type": "markdown",
   "metadata": {},
   "source": [
    "## Train the network\n",
    "\n",
    "Now we train the 3 layer CNN on CIFAR-10 and assess its accuracy."
   ]
  },
  {
   "cell_type": "code",
   "execution_count": 6,
   "metadata": {
    "scrolled": false
   },
   "outputs": [
    {
     "name": "stdout",
     "output_type": "stream",
     "text": [
      "(Iteration 1 / 980) loss: 2.304654\n",
      "(Epoch 0 / 1) train acc: 0.102000; val_acc: 0.093000\n",
      "(Iteration 21 / 980) loss: 2.131816\n",
      "(Iteration 41 / 980) loss: 2.020851\n",
      "(Iteration 61 / 980) loss: 2.117923\n",
      "(Iteration 81 / 980) loss: 2.010330\n",
      "(Iteration 101 / 980) loss: 1.687490\n",
      "(Iteration 121 / 980) loss: 1.882670\n",
      "(Iteration 141 / 980) loss: 1.939549\n",
      "(Iteration 161 / 980) loss: 1.552810\n",
      "(Iteration 181 / 980) loss: 1.823595\n",
      "(Iteration 201 / 980) loss: 1.808657\n",
      "(Iteration 221 / 980) loss: 1.854325\n",
      "(Iteration 241 / 980) loss: 1.761188\n",
      "(Iteration 261 / 980) loss: 1.800233\n",
      "(Iteration 281 / 980) loss: 1.567720\n",
      "(Iteration 301 / 980) loss: 1.539409\n",
      "(Iteration 321 / 980) loss: 2.138078\n",
      "(Iteration 341 / 980) loss: 1.746798\n",
      "(Iteration 361 / 980) loss: 1.840328\n",
      "(Iteration 381 / 980) loss: 1.881169\n",
      "(Iteration 401 / 980) loss: 1.591436\n",
      "(Iteration 421 / 980) loss: 1.656724\n",
      "(Iteration 441 / 980) loss: 1.778309\n",
      "(Iteration 461 / 980) loss: 1.720966\n",
      "(Iteration 481 / 980) loss: 1.856955\n",
      "(Iteration 501 / 980) loss: 1.624138\n",
      "(Iteration 521 / 980) loss: 1.587256\n",
      "(Iteration 541 / 980) loss: 1.542011\n",
      "(Iteration 561 / 980) loss: 1.555545\n",
      "(Iteration 581 / 980) loss: 1.396170\n",
      "(Iteration 601 / 980) loss: 1.293165\n",
      "(Iteration 621 / 980) loss: 1.270821\n",
      "(Iteration 641 / 980) loss: 1.691648\n",
      "(Iteration 661 / 980) loss: 1.570260\n",
      "(Iteration 681 / 980) loss: 1.743356\n",
      "(Iteration 701 / 980) loss: 1.474436\n",
      "(Iteration 721 / 980) loss: 1.414279\n",
      "(Iteration 741 / 980) loss: 1.339923\n",
      "(Iteration 761 / 980) loss: 1.782336\n",
      "(Iteration 781 / 980) loss: 1.740092\n",
      "(Iteration 801 / 980) loss: 1.427833\n",
      "(Iteration 821 / 980) loss: 1.437471\n",
      "(Iteration 841 / 980) loss: 1.542376\n",
      "(Iteration 861 / 980) loss: 1.576817\n",
      "(Iteration 881 / 980) loss: 1.577748\n",
      "(Iteration 901 / 980) loss: 1.722746\n",
      "(Iteration 921 / 980) loss: 1.507274\n",
      "(Iteration 941 / 980) loss: 1.371046\n",
      "(Iteration 961 / 980) loss: 1.376196\n",
      "(Epoch 1 / 1) train acc: 0.428000; val_acc: 0.427000\n"
     ]
    }
   ],
   "source": [
    "model = ThreeLayerConvNet(weight_scale=0.001, hidden_dim=500, reg=0.001)\n",
    "\n",
    "solver = Solver(model, data,\n",
    "                num_epochs=1, batch_size=50,\n",
    "                update_rule='adam',\n",
    "                optim_config={\n",
    "                  'learning_rate': 1e-3,\n",
    "                },\n",
    "                verbose=True, print_every=20)\n",
    "solver.train()"
   ]
  },
  {
   "cell_type": "markdown",
   "metadata": {},
   "source": [
    "# Get > 65% validation accuracy on CIFAR-10.\n",
    "\n",
    "In the last part of the assignment, we'll now ask you to train a CNN to get better than 65% validation accuracy on CIFAR-10.\n",
    "\n",
    "### Things you should try:\n",
    "- Filter size: Above we used 7x7; but VGGNet and onwards showed stacks of 3x3 filters are good.  \n",
    "- Number of filters: Above we used 32 filters. Do more or fewer do better?\n",
    "- Batch normalization: Try adding spatial batch normalization after convolution layers and vanilla batch normalization after affine layers. Do your networks train faster?\n",
    "- Network architecture: Can a deeper CNN do better?  Consider these architectures:\n",
    "    - [conv-relu-pool]xN - conv - relu - [affine]xM - [softmax or SVM]\n",
    "    - [conv-relu-pool]XN - [affine]XM - [softmax or SVM]\n",
    "    - [conv-relu-conv-relu-pool]xN - [affine]xM - [softmax or SVM]\n",
    "\n",
    "### Tips for training\n",
    "For each network architecture that you try, you should tune the learning rate and regularization strength. When doing this there are a couple of important things to keep in mind:\n",
    "\n",
    "- If the parameters are working well, you should see improvement within a few hundred iterations\n",
    "- Remember the coarse-to-fine approach for hyperparameter tuning: start by testing a large range of hyperparameters for just a few training iterations to find the combinations of parameters that are working at all.\n",
    "- Once you have found some sets of parameters that seem to work, search more finely around these parameters. You may need to train for more epochs."
   ]
  },
  {
   "cell_type": "code",
   "execution_count": 7,
   "metadata": {
    "scrolled": false
   },
   "outputs": [
    {
     "name": "stdout",
     "output_type": "stream",
     "text": [
      "(Iteration 1 / 4900) loss: 2.304521\n",
      "(Epoch 0 / 10) train acc: 0.091000; val_acc: 0.105000\n",
      "(Iteration 51 / 4900) loss: 1.777162\n",
      "(Iteration 101 / 4900) loss: 1.628562\n",
      "(Iteration 151 / 4900) loss: 1.765847\n",
      "(Iteration 201 / 4900) loss: 1.633906\n",
      "(Iteration 251 / 4900) loss: 1.558438\n",
      "(Iteration 301 / 4900) loss: 1.681650\n",
      "(Iteration 351 / 4900) loss: 1.413942\n",
      "(Iteration 401 / 4900) loss: 1.308978\n",
      "(Iteration 451 / 4900) loss: 1.369693\n",
      "(Epoch 1 / 10) train acc: 0.492000; val_acc: 0.490000\n",
      "(Iteration 501 / 4900) loss: 1.377709\n",
      "(Iteration 551 / 4900) loss: 1.600294\n",
      "(Iteration 601 / 4900) loss: 1.368061\n",
      "(Iteration 651 / 4900) loss: 1.471636\n",
      "(Iteration 701 / 4900) loss: 1.402219\n",
      "(Iteration 751 / 4900) loss: 1.324461\n",
      "(Iteration 801 / 4900) loss: 1.199577\n",
      "(Iteration 851 / 4900) loss: 1.349935\n",
      "(Iteration 901 / 4900) loss: 1.279614\n",
      "(Iteration 951 / 4900) loss: 1.332827\n",
      "(Epoch 2 / 10) train acc: 0.594000; val_acc: 0.609000\n",
      "(Iteration 1001 / 4900) loss: 1.041459\n",
      "(Iteration 1051 / 4900) loss: 1.207991\n",
      "(Iteration 1101 / 4900) loss: 1.306067\n",
      "(Iteration 1151 / 4900) loss: 1.274624\n",
      "(Iteration 1201 / 4900) loss: 1.179908\n",
      "(Iteration 1251 / 4900) loss: 1.239523\n",
      "(Iteration 1301 / 4900) loss: 1.133325\n",
      "(Iteration 1351 / 4900) loss: 0.831984\n",
      "(Iteration 1401 / 4900) loss: 1.114677\n",
      "(Iteration 1451 / 4900) loss: 0.985909\n",
      "(Epoch 3 / 10) train acc: 0.605000; val_acc: 0.576000\n",
      "(Iteration 1501 / 4900) loss: 1.293685\n",
      "(Iteration 1551 / 4900) loss: 1.010599\n",
      "(Iteration 1601 / 4900) loss: 1.013520\n",
      "(Iteration 1651 / 4900) loss: 1.204987\n",
      "(Iteration 1701 / 4900) loss: 1.158148\n",
      "(Iteration 1751 / 4900) loss: 1.063476\n",
      "(Iteration 1801 / 4900) loss: 0.955505\n",
      "(Iteration 1851 / 4900) loss: 0.982943\n",
      "(Iteration 1901 / 4900) loss: 1.226261\n",
      "(Iteration 1951 / 4900) loss: 0.990169\n",
      "(Epoch 4 / 10) train acc: 0.643000; val_acc: 0.622000\n",
      "(Iteration 2001 / 4900) loss: 1.150087\n",
      "(Iteration 2051 / 4900) loss: 1.257924\n",
      "(Iteration 2101 / 4900) loss: 1.033762\n",
      "(Iteration 2151 / 4900) loss: 0.727955\n",
      "(Iteration 2201 / 4900) loss: 1.027982\n",
      "(Iteration 2251 / 4900) loss: 0.930448\n",
      "(Iteration 2301 / 4900) loss: 1.179031\n",
      "(Iteration 2351 / 4900) loss: 1.218351\n",
      "(Iteration 2401 / 4900) loss: 1.026595\n",
      "(Epoch 5 / 10) train acc: 0.653000; val_acc: 0.624000\n",
      "(Iteration 2451 / 4900) loss: 0.858269\n",
      "(Iteration 2501 / 4900) loss: 1.062690\n",
      "(Iteration 2551 / 4900) loss: 1.044464\n",
      "(Iteration 2601 / 4900) loss: 0.808881\n",
      "(Iteration 2651 / 4900) loss: 1.050041\n",
      "(Iteration 2701 / 4900) loss: 0.946865\n",
      "(Iteration 2751 / 4900) loss: 0.842302\n",
      "(Iteration 2801 / 4900) loss: 0.957174\n",
      "(Iteration 2851 / 4900) loss: 1.091363\n",
      "(Iteration 2901 / 4900) loss: 1.007176\n",
      "(Epoch 6 / 10) train acc: 0.674000; val_acc: 0.627000\n",
      "(Iteration 2951 / 4900) loss: 0.875508\n",
      "(Iteration 3001 / 4900) loss: 0.948506\n",
      "(Iteration 3051 / 4900) loss: 0.997793\n",
      "(Iteration 3101 / 4900) loss: 0.719316\n",
      "(Iteration 3151 / 4900) loss: 0.883459\n",
      "(Iteration 3201 / 4900) loss: 0.953784\n",
      "(Iteration 3251 / 4900) loss: 1.082632\n",
      "(Iteration 3301 / 4900) loss: 0.923608\n",
      "(Iteration 3351 / 4900) loss: 0.991098\n",
      "(Iteration 3401 / 4900) loss: 0.859671\n",
      "(Epoch 7 / 10) train acc: 0.714000; val_acc: 0.621000\n",
      "(Iteration 3451 / 4900) loss: 0.952745\n",
      "(Iteration 3501 / 4900) loss: 1.102049\n",
      "(Iteration 3551 / 4900) loss: 0.916765\n",
      "(Iteration 3601 / 4900) loss: 0.817110\n",
      "(Iteration 3651 / 4900) loss: 0.889626\n",
      "(Iteration 3701 / 4900) loss: 0.773381\n",
      "(Iteration 3751 / 4900) loss: 0.720381\n",
      "(Iteration 3801 / 4900) loss: 1.132100\n",
      "(Iteration 3851 / 4900) loss: 1.038932\n",
      "(Iteration 3901 / 4900) loss: 0.932003\n",
      "(Epoch 8 / 10) train acc: 0.715000; val_acc: 0.635000\n",
      "(Iteration 3951 / 4900) loss: 0.870949\n",
      "(Iteration 4001 / 4900) loss: 0.833011\n",
      "(Iteration 4051 / 4900) loss: 0.897561\n",
      "(Iteration 4101 / 4900) loss: 0.802691\n",
      "(Iteration 4151 / 4900) loss: 0.831472\n",
      "(Iteration 4201 / 4900) loss: 0.808495\n",
      "(Iteration 4251 / 4900) loss: 0.748331\n",
      "(Iteration 4301 / 4900) loss: 0.985201\n",
      "(Iteration 4351 / 4900) loss: 0.878208\n",
      "(Iteration 4401 / 4900) loss: 0.885459\n",
      "(Epoch 9 / 10) train acc: 0.731000; val_acc: 0.636000\n",
      "(Iteration 4451 / 4900) loss: 1.034676\n",
      "(Iteration 4501 / 4900) loss: 0.892516\n",
      "(Iteration 4551 / 4900) loss: 0.857136\n",
      "(Iteration 4601 / 4900) loss: 0.896473\n",
      "(Iteration 4651 / 4900) loss: 1.027999\n",
      "(Iteration 4701 / 4900) loss: 0.912795\n",
      "(Iteration 4751 / 4900) loss: 0.697600\n",
      "(Iteration 4801 / 4900) loss: 0.613218\n",
      "(Iteration 4851 / 4900) loss: 0.688699\n",
      "(Epoch 10 / 10) train acc: 0.767000; val_acc: 0.630000\n"
     ]
    }
   ],
   "source": [
    "# ================================================================ #\n",
    "# YOUR CODE HERE:\n",
    "#   Implement a CNN to achieve greater than 65% validation accuracy\n",
    "#   on CIFAR-10.\n",
    "# ================================================================ #\n",
    "\n",
    "optimizer = 'adam'\n",
    "\n",
    "learning_rate = 1e-3\n",
    "lr_decay = 0.9\n",
    "\n",
    "model = ThreeLayerConvNet(weight_scale=0.001, hidden_dim=200, reg=0.001)\n",
    "\n",
    "solver = Solver(model, data,\n",
    "                num_epochs=10, batch_size=100,\n",
    "                update_rule=optimizer,\n",
    "                optim_config={\n",
    "                  'learning_rate': learning_rate,\n",
    "                },\n",
    "                lr_decay=lr_decay,\n",
    "                verbose=True, print_every=50)\n",
    "solver.train()\n",
    "\n",
    "# ================================================================ #\n",
    "# END YOUR CODE HERE\n",
    "# ================================================================ #\n"
   ]
  },
  {
   "cell_type": "code",
   "execution_count": null,
   "metadata": {},
   "outputs": [],
   "source": []
  }
 ],
 "metadata": {
  "kernelspec": {
   "display_name": "Python 3",
   "language": "python",
   "name": "python3"
  },
  "language_info": {
   "codemirror_mode": {
    "name": "ipython",
    "version": 3
   },
   "file_extension": ".py",
   "mimetype": "text/x-python",
   "name": "python",
   "nbconvert_exporter": "python",
   "pygments_lexer": "ipython3",
   "version": "3.7.6"
  },
  "varInspector": {
   "cols": {
    "lenName": 16,
    "lenType": 16,
    "lenVar": 40
   },
   "kernels_config": {
    "python": {
     "delete_cmd_postfix": "",
     "delete_cmd_prefix": "del ",
     "library": "var_list.py",
     "varRefreshCmd": "print(var_dic_list())"
    },
    "r": {
     "delete_cmd_postfix": ") ",
     "delete_cmd_prefix": "rm(",
     "library": "var_list.r",
     "varRefreshCmd": "cat(var_dic_list()) "
    }
   },
   "types_to_exclude": [
    "module",
    "function",
    "builtin_function_or_method",
    "instance",
    "_Feature"
   ],
   "window_display": true
  }
 },
 "nbformat": 4,
 "nbformat_minor": 2
}
